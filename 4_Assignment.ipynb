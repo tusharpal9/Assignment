{
 "cells": [
  {
   "cell_type": "markdown",
   "id": "30959823",
   "metadata": {},
   "source": [
    "1. What exactly is []?\n",
    "\n",
    "ANS:The empty list value, which is a list value that contains no items. This is similar to how '' is the empty string value."
   ]
  },
  {
   "cell_type": "markdown",
   "id": "d136f0a0",
   "metadata": {},
   "source": [
    "2. In a list of values stored in a variable called spam, how would you assign the value \"hello\" as the third value? (Assume [2, 4, 6, 8, 10] are in spam.)"
   ]
  },
  {
   "cell_type": "code",
   "execution_count": 3,
   "id": "ba6a8aa2",
   "metadata": {},
   "outputs": [
    {
     "data": {
      "text/plain": [
       "[2, 4, 6, 'hello', 10]"
      ]
     },
     "execution_count": 3,
     "metadata": {},
     "output_type": "execute_result"
    }
   ],
   "source": [
    "spam=[2,4,6,8,10]\n",
    "spam[3]='hello'\n",
    "spam"
   ]
  },
  {
   "cell_type": "markdown",
   "id": "5f5ca4c1",
   "metadata": {},
   "source": [
    "Let's pretend the spam includes the list['a','b','c','d']  for the next three queries."
   ]
  },
  {
   "cell_type": "code",
   "execution_count": 15,
   "id": "f20fba70",
   "metadata": {},
   "outputs": [
    {
     "data": {
      "text/plain": [
       "'d'"
      ]
     },
     "execution_count": 15,
     "metadata": {},
     "output_type": "execute_result"
    }
   ],
   "source": [
    "#3. What is the value of spam[int(int('3'* 2) / 11)]?\n",
    "spam=['a','b','c','d'] \n",
    "spam[int(int('3'* 2) / 11)]#'3'*2=33/11=3"
   ]
  },
  {
   "cell_type": "code",
   "execution_count": 13,
   "id": "8b07d7f2",
   "metadata": {},
   "outputs": [
    {
     "data": {
      "text/plain": [
       "'d'"
      ]
     },
     "execution_count": 13,
     "metadata": {},
     "output_type": "execute_result"
    }
   ],
   "source": [
    "#4. What is the value of spam[-1]?\n",
    "#spam=['a','b','c','d'] \n",
    "spam[-1]"
   ]
  },
  {
   "cell_type": "code",
   "execution_count": 14,
   "id": "7caaf36a",
   "metadata": {},
   "outputs": [
    {
     "data": {
      "text/plain": [
       "['a', 'b']"
      ]
     },
     "execution_count": 14,
     "metadata": {},
     "output_type": "execute_result"
    }
   ],
   "source": [
    "#5. What is the value of spam[:2]?\n",
    "spam[:2]"
   ]
  },
  {
   "cell_type": "markdown",
   "id": "eb307adc",
   "metadata": {},
   "source": [
    "Let's pretend bacon has the list [3.14,'cat',11,'cat',True] for the next three questions."
   ]
  },
  {
   "cell_type": "code",
   "execution_count": 21,
   "id": "18ad3ee5",
   "metadata": {},
   "outputs": [
    {
     "data": {
      "text/plain": [
       "1"
      ]
     },
     "execution_count": 21,
     "metadata": {},
     "output_type": "execute_result"
    }
   ],
   "source": [
    "#6. What is the value of bacon.index('cat')?\n",
    "bacon = [3.14,'cat',11,'cat',True] \n",
    "bacon.index('cat')"
   ]
  },
  {
   "cell_type": "code",
   "execution_count": null,
   "id": "f25956d2",
   "metadata": {},
   "outputs": [],
   "source": [
    "#7. How does bacon.append(99) change the look of the list value in bacon?"
   ]
  },
  {
   "cell_type": "code",
   "execution_count": 22,
   "id": "af6f2029",
   "metadata": {},
   "outputs": [
    {
     "data": {
      "text/plain": [
       "[3.14, 'cat', 11, 'cat', True, 99]"
      ]
     },
     "execution_count": 22,
     "metadata": {},
     "output_type": "execute_result"
    }
   ],
   "source": [
    "bacon.append(99)\n",
    "bacon"
   ]
  },
  {
   "cell_type": "code",
   "execution_count": 23,
   "id": "b5630b84",
   "metadata": {},
   "outputs": [
    {
     "data": {
      "text/plain": [
       "[3.14, 11, 'cat', True, 99]"
      ]
     },
     "execution_count": 23,
     "metadata": {},
     "output_type": "execute_result"
    }
   ],
   "source": [
    "#8. How does bacon.remove('cat') change the look of the list in bacon?\n",
    "bacon.remove('cat')\n",
    "bacon"
   ]
  },
  {
   "cell_type": "markdown",
   "id": "5f2d0a6b",
   "metadata": {},
   "source": [
    "9. What are the list concatenation and list replication operators?\n",
    "\n",
    "ANS:list concatenation mean '+' additing two or more list together\n",
    "list replication mean '*' multiplication here we multiply list.\n",
    "\n",
    "10. What is difference between the list methods append() and insert()?\n",
    "\n",
    "ANS: both method is use for adding data into list but append() will add the data at end of the list and inser() will add the data anywhere in list.\n",
    "\n",
    "11. What are the two methods for removing items from a list?\n",
    "\n",
    "ANS:remove, pop are two method for removing items from a list.\n",
    "\n",
    "12. Describe how list values and string values are identical.\n",
    "\n",
    "ANS:Both lists and strings can be concatenated or replicated, passed to len(), have indexes and slices, be used in for loops,  and be used with the in and not in operators.\n",
    "\n",
    "13. What's the difference between tuples and lists?\n",
    "\n",
    "ANS:\n",
    "tuples:1.tuple represented as parentheses '()'\n",
    "       2. tuple is immutable, mean we can't change the element from tuple\n",
    "\n",
    "lists:1.list represented as square bracket '[]'\n",
    "      2. list is mutable, we can change the element from list\n",
    "\n",
    "14. How do you type a tuple value that only contains the integer 42?\n",
    "\n",
    "ANS:(42,) (The trailing comma is mandatory.)\n",
    "\n",
    "15. How do you get a list value&#39;s tuple form? How do you get a tuple value&#39;s list form?\n",
    "\n",
    "ANS:The tuple() and list() functions, respectively\n",
    "\n",
    "16. Variables that &quot;contain&quot; list values are not necessarily lists themselves. Instead, what do they\n",
    "contain?\n",
    "\n",
    "ANS:They contain references to list values.\n",
    "\n",
    "17. How do you distinguish between copy.copy() and copy.deepcopy()?\n",
    "\n",
    "ANS:The copy.copy() function will do a shallow copy of a list, while the copy.deepcopy() function will do a deep copy of a list. That is, only copy.deepcopy() will duplicate any lists inside the lis"
   ]
  },
  {
   "cell_type": "code",
   "execution_count": null,
   "id": "c9e1d39a",
   "metadata": {},
   "outputs": [],
   "source": []
  }
 ],
 "metadata": {
  "kernelspec": {
   "display_name": "Python 3 (ipykernel)",
   "language": "python",
   "name": "python3"
  },
  "language_info": {
   "codemirror_mode": {
    "name": "ipython",
    "version": 3
   },
   "file_extension": ".py",
   "mimetype": "text/x-python",
   "name": "python",
   "nbconvert_exporter": "python",
   "pygments_lexer": "ipython3",
   "version": "3.9.12"
  }
 },
 "nbformat": 4,
 "nbformat_minor": 5
}
